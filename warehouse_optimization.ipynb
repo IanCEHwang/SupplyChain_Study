{
 "cells": [
  {
   "cell_type": "code",
   "execution_count": 1,
   "id": "19f7ab2f",
   "metadata": {},
   "outputs": [],
   "source": [
    "import pandas as pd\n",
    "import numpy as np"
   ]
  },
  {
   "cell_type": "code",
   "execution_count": 48,
   "id": "b94e74cd",
   "metadata": {},
   "outputs": [],
   "source": [
    "class product_object:\n",
    "    def __init__(self, product_id , number_of_classes):\n",
    "        self.product_id = product_id\n",
    "        self.current_inventory = [0] * number_of_classes ###initiate starting inventory in all three classes\n",
    "        self.class_log = [] ### initiate a list for storing all the class logs\n",
    "\n",
    "    def print_class_name(self):\n",
    "        print(self.product_id)"
   ]
  },
  {
   "cell_type": "code",
   "execution_count": 47,
   "id": "8690e269",
   "metadata": {},
   "outputs": [],
   "source": [
    "class class_object:\n",
    "    def __init__(self, class_id , n_products):\n",
    "        self.class_id = class_id\n",
    "        self.current_inventory = np.zeros(n_products)\n",
    "        self.max_capacity = 984\n",
    "        self.current_capacity = 0\n",
    "\n",
    "\n",
    "    ### Inbound handling \n",
    "    def stuff_product(self, product_index , number_of_product): \n",
    "        spare_room = self.max_capacity - self.current_capacity ### check room left\n",
    "        product_index = int(product_index) ### convert index to int for indexing\n",
    "\n",
    "        if spare_room >= number_of_product: ### if enough room\n",
    "            self.current_inventory[product_index - 1] = self.current_inventory[product_index - 1] + number_of_product\n",
    "            self.current_capacity = sum(self.current_inventory) ### update capacity\n",
    "            return 0\n",
    "\n",
    "        else: ### if not enough room\n",
    "            self.current_inventory[product_index - 1] = self.current_inventory[product_index - 1] + spare_room ### stuff to max\n",
    "            self.current_capacity = self.max_capacity ### update capacity\n",
    "            return number_of_product - spare_room ### return number of products that are not stored\n",
    "    \n",
    "    ### Outbound handling\n",
    "    def take_product(self , product_index , retrival_list):\n",
    "        \n",
    "        \n",
    "        \n",
    "        \n",
    "    def return_numbers(self):\n",
    "        print('current inventory :' , self.current_inventory)\n",
    "        print('current capacity :' , self.current_capacity)"
   ]
  },
  {
   "cell_type": "code",
   "execution_count": 54,
   "id": "74d31793",
   "metadata": {},
   "outputs": [],
   "source": [
    "warehouse = pd.read_csv('data_source/warehouse_data.csv')"
   ]
  },
  {
   "cell_type": "code",
   "execution_count": 55,
   "id": "ed096eaf",
   "metadata": {},
   "outputs": [
    {
     "data": {
      "text/html": [
       "<div>\n",
       "<style scoped>\n",
       "    .dataframe tbody tr th:only-of-type {\n",
       "        vertical-align: middle;\n",
       "    }\n",
       "\n",
       "    .dataframe tbody tr th {\n",
       "        vertical-align: top;\n",
       "    }\n",
       "\n",
       "    .dataframe thead th {\n",
       "        text-align: right;\n",
       "    }\n",
       "</style>\n",
       "<table border=\"1\" class=\"dataframe\">\n",
       "  <thead>\n",
       "    <tr style=\"text-align: right;\">\n",
       "      <th></th>\n",
       "      <th>day_id</th>\n",
       "      <th>week_id</th>\n",
       "      <th>product_id</th>\n",
       "      <th>quantity</th>\n",
       "      <th>type</th>\n",
       "    </tr>\n",
       "  </thead>\n",
       "  <tbody>\n",
       "    <tr>\n",
       "      <th>0</th>\n",
       "      <td>1</td>\n",
       "      <td>1</td>\n",
       "      <td>1</td>\n",
       "      <td>18</td>\n",
       "      <td>IN</td>\n",
       "    </tr>\n",
       "    <tr>\n",
       "      <th>1</th>\n",
       "      <td>2</td>\n",
       "      <td>1</td>\n",
       "      <td>1</td>\n",
       "      <td>36</td>\n",
       "      <td>IN</td>\n",
       "    </tr>\n",
       "    <tr>\n",
       "      <th>2</th>\n",
       "      <td>2</td>\n",
       "      <td>1</td>\n",
       "      <td>1</td>\n",
       "      <td>15</td>\n",
       "      <td>OUT</td>\n",
       "    </tr>\n",
       "    <tr>\n",
       "      <th>3</th>\n",
       "      <td>3</td>\n",
       "      <td>1</td>\n",
       "      <td>1</td>\n",
       "      <td>55</td>\n",
       "      <td>IN</td>\n",
       "    </tr>\n",
       "    <tr>\n",
       "      <th>4</th>\n",
       "      <td>3</td>\n",
       "      <td>1</td>\n",
       "      <td>1</td>\n",
       "      <td>39</td>\n",
       "      <td>OUT</td>\n",
       "    </tr>\n",
       "    <tr>\n",
       "      <th>...</th>\n",
       "      <td>...</td>\n",
       "      <td>...</td>\n",
       "      <td>...</td>\n",
       "      <td>...</td>\n",
       "      <td>...</td>\n",
       "    </tr>\n",
       "    <tr>\n",
       "      <th>3323</th>\n",
       "      <td>307</td>\n",
       "      <td>52</td>\n",
       "      <td>14</td>\n",
       "      <td>1</td>\n",
       "      <td>OUT</td>\n",
       "    </tr>\n",
       "    <tr>\n",
       "      <th>3324</th>\n",
       "      <td>307</td>\n",
       "      <td>52</td>\n",
       "      <td>15</td>\n",
       "      <td>30</td>\n",
       "      <td>IN</td>\n",
       "    </tr>\n",
       "    <tr>\n",
       "      <th>3325</th>\n",
       "      <td>307</td>\n",
       "      <td>52</td>\n",
       "      <td>15</td>\n",
       "      <td>1</td>\n",
       "      <td>OUT</td>\n",
       "    </tr>\n",
       "    <tr>\n",
       "      <th>3326</th>\n",
       "      <td>307</td>\n",
       "      <td>52</td>\n",
       "      <td>16</td>\n",
       "      <td>2</td>\n",
       "      <td>OUT</td>\n",
       "    </tr>\n",
       "    <tr>\n",
       "      <th>3327</th>\n",
       "      <td>307</td>\n",
       "      <td>52</td>\n",
       "      <td>19</td>\n",
       "      <td>2</td>\n",
       "      <td>OUT</td>\n",
       "    </tr>\n",
       "  </tbody>\n",
       "</table>\n",
       "<p>3328 rows × 5 columns</p>\n",
       "</div>"
      ],
      "text/plain": [
       "      day_id  week_id  product_id  quantity type\n",
       "0          1        1           1        18   IN\n",
       "1          2        1           1        36   IN\n",
       "2          2        1           1        15  OUT\n",
       "3          3        1           1        55   IN\n",
       "4          3        1           1        39  OUT\n",
       "...      ...      ...         ...       ...  ...\n",
       "3323     307       52          14         1  OUT\n",
       "3324     307       52          15        30   IN\n",
       "3325     307       52          15         1  OUT\n",
       "3326     307       52          16         2  OUT\n",
       "3327     307       52          19         2  OUT\n",
       "\n",
       "[3328 rows x 5 columns]"
      ]
     },
     "execution_count": 55,
     "metadata": {},
     "output_type": "execute_result"
    }
   ],
   "source": [
    "warehouse"
   ]
  },
  {
   "cell_type": "code",
   "execution_count": 78,
   "id": "0efaf1d4",
   "metadata": {},
   "outputs": [],
   "source": [
    "def calculate_turnover(df , T):\n",
    "    df['T_category'] = df['day_id'] / T\n",
    "    df['T_category'] = df['T_category'].apply(lambda x : int(x) + 1)\n",
    "    df['']\n",
    "    \n",
    "    \n",
    "    df = df.groupby(['T_category' , 'product_id']).agg({'quantity':'sum'})\n",
    "    \n",
    "    return df"
   ]
  },
  {
   "cell_type": "code",
   "execution_count": 79,
   "id": "a5f2b07c",
   "metadata": {},
   "outputs": [
    {
     "data": {
      "text/html": [
       "<div>\n",
       "<style scoped>\n",
       "    .dataframe tbody tr th:only-of-type {\n",
       "        vertical-align: middle;\n",
       "    }\n",
       "\n",
       "    .dataframe tbody tr th {\n",
       "        vertical-align: top;\n",
       "    }\n",
       "\n",
       "    .dataframe thead th {\n",
       "        text-align: right;\n",
       "    }\n",
       "</style>\n",
       "<table border=\"1\" class=\"dataframe\">\n",
       "  <thead>\n",
       "    <tr style=\"text-align: right;\">\n",
       "      <th></th>\n",
       "      <th></th>\n",
       "      <th>quantity</th>\n",
       "    </tr>\n",
       "    <tr>\n",
       "      <th>T_category</th>\n",
       "      <th>product_id</th>\n",
       "      <th></th>\n",
       "    </tr>\n",
       "  </thead>\n",
       "  <tbody>\n",
       "    <tr>\n",
       "      <th rowspan=\"5\" valign=\"top\">1</th>\n",
       "      <th>1</th>\n",
       "      <td>685</td>\n",
       "    </tr>\n",
       "    <tr>\n",
       "      <th>2</th>\n",
       "      <td>79</td>\n",
       "    </tr>\n",
       "    <tr>\n",
       "      <th>3</th>\n",
       "      <td>333</td>\n",
       "    </tr>\n",
       "    <tr>\n",
       "      <th>4</th>\n",
       "      <td>277</td>\n",
       "    </tr>\n",
       "    <tr>\n",
       "      <th>5</th>\n",
       "      <td>186</td>\n",
       "    </tr>\n",
       "    <tr>\n",
       "      <th>...</th>\n",
       "      <th>...</th>\n",
       "      <td>...</td>\n",
       "    </tr>\n",
       "    <tr>\n",
       "      <th rowspan=\"5\" valign=\"top\">16</th>\n",
       "      <th>15</th>\n",
       "      <td>56</td>\n",
       "    </tr>\n",
       "    <tr>\n",
       "      <th>16</th>\n",
       "      <td>20</td>\n",
       "    </tr>\n",
       "    <tr>\n",
       "      <th>17</th>\n",
       "      <td>34</td>\n",
       "    </tr>\n",
       "    <tr>\n",
       "      <th>18</th>\n",
       "      <td>49</td>\n",
       "    </tr>\n",
       "    <tr>\n",
       "      <th>19</th>\n",
       "      <td>17</td>\n",
       "    </tr>\n",
       "  </tbody>\n",
       "</table>\n",
       "<p>316 rows × 1 columns</p>\n",
       "</div>"
      ],
      "text/plain": [
       "                       quantity\n",
       "T_category product_id          \n",
       "1          1                685\n",
       "           2                 79\n",
       "           3                333\n",
       "           4                277\n",
       "           5                186\n",
       "...                         ...\n",
       "16         15                56\n",
       "           16                20\n",
       "           17                34\n",
       "           18                49\n",
       "           19                17\n",
       "\n",
       "[316 rows x 1 columns]"
      ]
     },
     "execution_count": 79,
     "metadata": {},
     "output_type": "execute_result"
    }
   ],
   "source": [
    "calculate_turnover(warehouse , 20)"
   ]
  },
  {
   "cell_type": "code",
   "execution_count": 40,
   "id": "9b12a15f",
   "metadata": {},
   "outputs": [],
   "source": [
    "### initiate list of top ten products\n",
    "product_object_list = []\n",
    "for i in range(1,11):\n",
    "    product_object_list.append(product_object(f\"{i}\"))\n",
    "\n",
    "### initiate list of 4 classes\n",
    "class_object_list = []\n",
    "for i in range(1,5):\n",
    "    class_object_list.append(class_object(f\"{i}\"))"
   ]
  },
  {
   "cell_type": "code",
   "execution_count": null,
   "id": "ff421c65",
   "metadata": {},
   "outputs": [],
   "source": []
  },
  {
   "cell_type": "code",
   "execution_count": null,
   "id": "e2854370",
   "metadata": {},
   "outputs": [],
   "source": [
    "for weekly_flow in list(tos_df.groupby('week_id')):\n",
    "    weekly_df = weekly_flow[1]\n",
    "    for index, row in weekly_df.iterrows():\n",
    "        ### handle inbound\n",
    "        for class_obj in class_object_list:\n",
    "            print(row)\n",
    "            print(row['product_id'])\n",
    "            break\n",
    "    break"
   ]
  },
  {
   "cell_type": "code",
   "execution_count": 49,
   "id": "8d0baf53",
   "metadata": {},
   "outputs": [],
   "source": [
    "new_class = class_object('class A' , 10)"
   ]
  },
  {
   "cell_type": "code",
   "execution_count": 50,
   "id": "d5ce04c9",
   "metadata": {},
   "outputs": [
    {
     "data": {
      "text/plain": [
       "0"
      ]
     },
     "execution_count": 50,
     "metadata": {},
     "output_type": "execute_result"
    }
   ],
   "source": [
    "new_class.stuff_product('1' , 800)"
   ]
  },
  {
   "cell_type": "code",
   "execution_count": 51,
   "id": "11735d01",
   "metadata": {},
   "outputs": [
    {
     "data": {
      "text/plain": [
       "0"
      ]
     },
     "execution_count": 51,
     "metadata": {},
     "output_type": "execute_result"
    }
   ],
   "source": [
    "new_class.stuff_product('10', 100)"
   ]
  },
  {
   "cell_type": "code",
   "execution_count": 52,
   "id": "e54c370a",
   "metadata": {},
   "outputs": [
    {
     "data": {
      "text/plain": [
       "16.0"
      ]
     },
     "execution_count": 52,
     "metadata": {},
     "output_type": "execute_result"
    }
   ],
   "source": [
    "new_class.stuff_product('2' , 100)"
   ]
  },
  {
   "cell_type": "code",
   "execution_count": 53,
   "id": "e57fad6e",
   "metadata": {
    "scrolled": true
   },
   "outputs": [
    {
     "name": "stdout",
     "output_type": "stream",
     "text": [
      "current inventory : [800.  84.   0.   0.   0.   0.   0.   0.   0. 100.]\n",
      "current capacity : 984\n"
     ]
    }
   ],
   "source": [
    "new_class.return_numbers()"
   ]
  }
 ],
 "metadata": {
  "kernelspec": {
   "display_name": "Python 3 (ipykernel)",
   "language": "python",
   "name": "python3"
  },
  "language_info": {
   "codemirror_mode": {
    "name": "ipython",
    "version": 3
   },
   "file_extension": ".py",
   "mimetype": "text/x-python",
   "name": "python",
   "nbconvert_exporter": "python",
   "pygments_lexer": "ipython3",
   "version": "3.9.6"
  }
 },
 "nbformat": 4,
 "nbformat_minor": 5
}
