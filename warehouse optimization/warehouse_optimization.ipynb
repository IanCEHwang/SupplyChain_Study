{
 "cells": [
  {
   "cell_type": "code",
   "execution_count": 1,
   "id": "3cf508af",
   "metadata": {},
   "outputs": [],
   "source": [
    "import pandas as pd\n",
    "import numpy as np\n",
    "\n",
    "from util import *"
   ]
  },
  {
   "cell_type": "markdown",
   "id": "414d16bc",
   "metadata": {},
   "source": [
    "### Specification"
   ]
  },
  {
   "cell_type": "code",
   "execution_count": 36,
   "id": "8cb1f0ad",
   "metadata": {},
   "outputs": [],
   "source": [
    "### specify T\n",
    "T = 6\n",
    "\n",
    "### specify distance for backup storage\n",
    "backup_distance = 999\n",
    "\n",
    "### specify number of classes\n",
    "number_of_classes = 4\n",
    "\n",
    "### specify number of products\n",
    "number_of_products = 10\n",
    "\n",
    "### specify to which week\n",
    "week_number = 17"
   ]
  },
  {
   "cell_type": "markdown",
   "id": "e1712ebc",
   "metadata": {},
   "source": [
    "### Read and preprocess data"
   ]
  },
  {
   "cell_type": "code",
   "execution_count": 37,
   "id": "7d0c02b5",
   "metadata": {},
   "outputs": [],
   "source": [
    "### warehouse data\n",
    "warehouse = pd.read_csv('data_source/warehouse_data.csv')\n",
    "### calculate turnover\n",
    "turnover_df = calculate_turnover(warehouse , T , 10 , moving_avg = True) ### (datasource, T , top_n product)\n",
    "turnover_df = turnover_df[turnover_df['week_id'].isin([week_number])]\n",
    "\n",
    "### travel distance\n",
    "travel_distance = pd.read_excel('data_source/travel distance.xlsx')\n",
    "storage_dist = list(travel_distance['Storage Distance'])\n",
    "retrieval_dist = list(travel_distance['Retrieval Distance'])\n",
    "\n",
    "### decide distance for backup storage\n",
    "backup_dist = [backup_distance]\n",
    "storage_dist = storage_dist + backup_dist\n",
    "retrieval_dist = retrieval_dist + backup_dist\n"
   ]
  },
  {
   "cell_type": "markdown",
   "id": "91132892",
   "metadata": {},
   "source": [
    "### Product distribution"
   ]
  },
  {
   "cell_type": "code",
   "execution_count": 39,
   "id": "ee938505",
   "metadata": {},
   "outputs": [],
   "source": [
    "inbound_logs, outbound_logs = supplychain_optimize(turnover_df , number_of_classes , number_of_products)"
   ]
  },
  {
   "cell_type": "markdown",
   "id": "b2fe2570",
   "metadata": {},
   "source": [
    "### calculate_distance"
   ]
  },
  {
   "cell_type": "code",
   "execution_count": 40,
   "id": "2a983201",
   "metadata": {},
   "outputs": [
    {
     "name": "stdout",
     "output_type": "stream",
     "text": [
      "Inbound distance : 111978.9485714286\n",
      "Outbound distance : 237639.10000000015\n"
     ]
    }
   ],
   "source": [
    "### inbound\n",
    "inbound_distance = 0\n",
    "for tenor_log in inbound_logs:\n",
    "    for product_log in tenor_log:\n",
    "        for class_index in range(len(product_log)):\n",
    "            inbound_distance = inbound_distance + product_log[class_index] * storage_dist[class_index]\n",
    "\n",
    "inbound_distance = inbound_distance / 35\n",
    "\n",
    "### outbound\n",
    "outbound_distance = 0\n",
    "for tenor_log in outbound_logs:\n",
    "    for product_log in tenor_log:\n",
    "        for class_index in range(len(product_log)):\n",
    "            outbound_distance = outbound_distance + product_log[class_index] * retrieval_dist[class_index]\n",
    "\n",
    "outbound_distance = outbound_distance / 35\n",
    "\n",
    "print(\"Inbound distance :\" , inbound_distance)\n",
    "print(\"Outbound distance :\", outbound_distance)"
   ]
  }
 ],
 "metadata": {
  "kernelspec": {
   "display_name": "Python 3 (ipykernel)",
   "language": "python",
   "name": "python3"
  },
  "language_info": {
   "codemirror_mode": {
    "name": "ipython",
    "version": 3
   },
   "file_extension": ".py",
   "mimetype": "text/x-python",
   "name": "python",
   "nbconvert_exporter": "python",
   "pygments_lexer": "ipython3",
   "version": "3.9.6"
  }
 },
 "nbformat": 4,
 "nbformat_minor": 5
}
