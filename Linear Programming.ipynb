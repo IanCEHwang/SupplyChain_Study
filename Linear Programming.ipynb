{
 "cells": [
  {
   "cell_type": "code",
   "execution_count": 1,
   "id": "49eb1b74",
   "metadata": {},
   "outputs": [],
   "source": [
    "import numpy as np\n",
    "import math\n",
    "import matplotlib.pyplot as plt\n",
    "import pyomo\n",
    "from pyomo.environ import *\n",
    "from pyomo.environ import SolverFactory"
   ]
  },
  {
   "cell_type": "markdown",
   "id": "16b26666",
   "metadata": {},
   "source": [
    "## Python Exercises"
   ]
  },
  {
   "cell_type": "markdown",
   "id": "a680b857",
   "metadata": {},
   "source": [
    "### Question 1"
   ]
  },
  {
   "cell_type": "markdown",
   "id": "54845564",
   "metadata": {},
   "source": [
    "Suppose we have two lists, x and y that give the x and y coordinates\n",
    "of a set of points. Create a list with the coordinates (x,y) as a tuple.\n",
    "Hint: Find out about the zip function.\n"
   ]
  },
  {
   "cell_type": "code",
   "execution_count": 2,
   "id": "42c5ebd4",
   "metadata": {},
   "outputs": [],
   "source": [
    "x = [1 , 2 , 3]\n",
    "y = [3 , 2 , 1]\n",
    "\n",
    "\n",
    "coordinates = zip(x , y)"
   ]
  },
  {
   "cell_type": "code",
   "execution_count": 3,
   "id": "c41f705a",
   "metadata": {},
   "outputs": [
    {
     "data": {
      "text/plain": [
       "[(1, 3), (2, 2), (3, 1)]"
      ]
     },
     "execution_count": 3,
     "metadata": {},
     "output_type": "execute_result"
    }
   ],
   "source": [
    "### check zip\n",
    "list(coordinates)"
   ]
  },
  {
   "cell_type": "markdown",
   "id": "b1b7eb56",
   "metadata": {},
   "source": [
    "### Question 2"
   ]
  },
  {
   "cell_type": "markdown",
   "id": "387145e4",
   "metadata": {},
   "source": [
    "Suppose we have two vectors, x and y, stored as tuples with n elements.\n",
    "Implement functions that compute the l1 and l2 distances between x\n",
    "and y. Note that n is not explicitly given."
   ]
  },
  {
   "cell_type": "code",
   "execution_count": 4,
   "id": "592003ee",
   "metadata": {},
   "outputs": [],
   "source": [
    "def calculate_distance(x , y):\n",
    "    distance = 0\n",
    "    for i in range(len(x)):\n",
    "        distance = distance + (abs(x[i] - y[i])**2)\n",
    "    \n",
    "    return math.sqrt(distance)"
   ]
  },
  {
   "cell_type": "markdown",
   "id": "a490237b",
   "metadata": {},
   "source": [
    "### Test"
   ]
  },
  {
   "cell_type": "code",
   "execution_count": 5,
   "id": "a197cbd6",
   "metadata": {},
   "outputs": [
    {
     "data": {
      "text/plain": [
       "1.4142135623730951"
      ]
     },
     "execution_count": 5,
     "metadata": {},
     "output_type": "execute_result"
    }
   ],
   "source": [
    "calculate_distance([1, 2] , [2, 3])"
   ]
  },
  {
   "cell_type": "markdown",
   "id": "3aee0cd3",
   "metadata": {},
   "source": [
    "### Question 3"
   ]
  },
  {
   "cell_type": "markdown",
   "id": "65f1ce83",
   "metadata": {},
   "source": [
    "Plot the function $e^{−x}x^2$ over the range [0, 10] using matplotlib"
   ]
  },
  {
   "cell_type": "code",
   "execution_count": 6,
   "id": "b9419d66",
   "metadata": {},
   "outputs": [],
   "source": [
    "def func_2_plot(x):\n",
    "    return math.exp(x * -1) * (x ** 2)"
   ]
  },
  {
   "cell_type": "code",
   "execution_count": 7,
   "id": "5048dda9",
   "metadata": {},
   "outputs": [],
   "source": [
    "num_2_plot = np.arange(0 , 11)\n",
    "y = [func_2_plot(x) for x in num_2_plot]"
   ]
  },
  {
   "cell_type": "code",
   "execution_count": 8,
   "id": "faaaaa9b",
   "metadata": {},
   "outputs": [
    {
     "data": {
      "text/plain": [
       "[<matplotlib.lines.Line2D at 0x120d17790>]"
      ]
     },
     "execution_count": 8,
     "metadata": {},
     "output_type": "execute_result"
    },
    {
     "data": {
      "image/png": "[encoded data removed]",
      "text/plain": [
       "<Figure size 640x480 with 1 Axes>"
      ]
     },
     "metadata": {},
     "output_type": "display_data"
    }
   ],
   "source": [
    "plt.plot(num_2_plot , y)"
   ]
  },
  {
   "cell_type": "markdown",
   "id": "98c5f9a6",
   "metadata": {},
   "source": [
    "### Question 4"
   ]
  },
  {
   "cell_type": "markdown",
   "id": "69455777",
   "metadata": {},
   "source": [
    "Find the sqrt of a number using n without using the sqrt function.\n",
    "Hint: Use binary search for this"
   ]
  },
  {
   "cell_type": "code",
   "execution_count": 9,
   "id": "00ee276a",
   "metadata": {},
   "outputs": [],
   "source": [
    "def find_sqrt(x):\n",
    "    full_map = np.arange(0 , x , 0.01)\n",
    "    \n",
    "    upper_bound = len(full_map) - 1\n",
    "    lower_bound = 0\n",
    "    \n",
    "    current_index = len(full_map) - 1\n",
    "    \n",
    "    ### while loop breaker\n",
    "    if_continue = True\n",
    "    \n",
    "    ### implement binary search\n",
    "    while if_continue:\n",
    "        ### index for binary search\n",
    "        current_index = int(lower_bound + (upper_bound - lower_bound) / 2)\n",
    "    \n",
    "        ### if number is within certain range of difference to the number we want\n",
    "        if abs(full_map[current_index] ** 2 - x) < 0.02:\n",
    "            if_continue = False\n",
    "            break\n",
    "        \n",
    "        ### if number^2 is greater than the number we want, then reset higher bound\n",
    "        elif full_map[current_index] ** 2 > x:\n",
    "            upper_bound = current_index\n",
    "            continue\n",
    "        ### if number^2 is lower than the number we want, then reset lower bound\n",
    "        else:\n",
    "            lower_bound = current_index\n",
    "            continue\n",
    "        \n",
    "    return full_map[current_index]"
   ]
  },
  {
   "cell_type": "markdown",
   "id": "8cbfd86e",
   "metadata": {},
   "source": [
    "### Examine function for question 4"
   ]
  },
  {
   "cell_type": "code",
   "execution_count": 10,
   "id": "c40d12df",
   "metadata": {},
   "outputs": [],
   "source": [
    "def test_sqrt_function(x):\n",
    "    number_to_test = x\n",
    "    \n",
    "    print(f\"Answer from my function : {find_sqrt(x)}\")\n",
    "    print(f\"Answer from math.sqrt function : {round(math.sqrt(x) , 2)}\")"
   ]
  },
  {
   "cell_type": "code",
   "execution_count": 11,
   "id": "12403fc9",
   "metadata": {},
   "outputs": [
    {
     "name": "stdout",
     "output_type": "stream",
     "text": [
      "Answer from my function : 2.24\n",
      "Answer from math.sqrt function : 2.24\n"
     ]
    }
   ],
   "source": [
    "test_sqrt_function(5)"
   ]
  },
  {
   "cell_type": "code",
   "execution_count": 12,
   "id": "718348fb",
   "metadata": {},
   "outputs": [
    {
     "name": "stdout",
     "output_type": "stream",
     "text": [
      "Answer from my function : 3.16\n",
      "Answer from math.sqrt function : 3.16\n"
     ]
    }
   ],
   "source": [
    "test_sqrt_function(10)"
   ]
  },
  {
   "cell_type": "code",
   "execution_count": 13,
   "id": "203dc6fd",
   "metadata": {},
   "outputs": [
    {
     "name": "stdout",
     "output_type": "stream",
     "text": [
      "Answer from my function : 10.0\n",
      "Answer from math.sqrt function : 10.0\n"
     ]
    }
   ],
   "source": [
    "test_sqrt_function(100)"
   ]
  },
  {
   "cell_type": "markdown",
   "id": "29ddd04e",
   "metadata": {},
   "source": [
    "## Knapsack Problem"
   ]
  },
  {
   "cell_type": "markdown",
   "id": "5d04cc82",
   "metadata": {},
   "source": [
    "Consider a thief who goes into a warehouse with a knapsack. There is a\n",
    "limit to how much weight the knapsack can carry. The warehouse has many\n",
    "items, each of which is divisible into arbitrarily small fragments eg. gold,\n",
    "silver, diamond dust, etc. The thief wants to fill her knapsack with the most\n",
    "profitable bundle of goods. How can she decide what this bundle is?\n",
    "The first stage in solving an optimization problem is modeling. And the\n",
    "very first as well as the most important step in modeling is to name your\n",
    "quantities. Let the knapsack capacity be W lbs. Let N denote the number\n",
    "of goods in the warehouse. Let the total weight of the ith good be wi and let\n",
    "the value of the ith good be vi.\n",
    "The next step is to decide what quantities we are free to choose. These are\n",
    "known as decision variables. In this case, the thief must decide how much of\n",
    "each item to carry. Let xi denote the fraction of the ith good carried away\n",
    "by the thief The next two steps in modeling an optimization problem are to decide what\n",
    "our goals and restrictions are. The goal is commonly referred to as an ob-\n",
    "jective function which we need to either maximize or minimize depending on\n",
    "the problem. In this case, the objective function is P\n",
    "i vixi, which is the total\n",
    "profit made by the thief, and we need to maximize the objective function.\n",
    "The restrictions are that \n",
    "\n",
    "(a) the thief can not take more of a good than is\n",
    "available in the warehouse, and\n",
    "\n",
    "(b) the thief can not carry more weight than\n",
    "the knapsack capacity."
   ]
  },
  {
   "cell_type": "markdown",
   "id": "d292c464",
   "metadata": {},
   "source": [
    "### 1. Model the above problem as a LP"
   ]
  },
  {
   "cell_type": "markdown",
   "id": "f4d897c7",
   "metadata": {},
   "source": [
    "Target function:\n",
    "\n",
    "$\\sum_{i = 1}^{N}$$x_i$$v_i$\n",
    "\n",
    "\n",
    "\n",
    "Constraints:\n",
    "\n",
    "1. ∀i ∈{1,...,N}, xi ≤ 1\n",
    "\n",
    "\\\n",
    "2. $\\sum_{i = 1}^{N}$$x_i$$w_i$ $\\le$ W\n",
    "\n",
    "3. $w_i$ < quantity of good in warehouse i"
   ]
  },
  {
   "cell_type": "markdown",
   "id": "df26ec92",
   "metadata": {},
   "source": [
    "### 2. Consider a specific instance of the problem with N = 3 and W = 4 Let v = (2,3,4) and w = (5,20,3) Use Pyomo to obtain the optimal solution\n"
   ]
  },
  {
   "cell_type": "code",
   "execution_count": 27,
   "id": "f4d590d7",
   "metadata": {
    "scrolled": false
   },
   "outputs": [
    {
     "name": "stdout",
     "output_type": "stream",
     "text": [
      "3 Var Declarations\n",
      "    diamond : Size=1, Index=None\n",
      "        Key  : Lower : Value : Upper : Fixed : Stale : Domain\n",
      "        None :     0 :  None :  None : False :  True : NonNegativeReals\n",
      "    gold : Size=1, Index=None\n",
      "        Key  : Lower : Value : Upper : Fixed : Stale : Domain\n",
      "        None :     0 :  None :  None : False :  True : NonNegativeReals\n",
      "    silver : Size=1, Index=None\n",
      "        Key  : Lower : Value : Upper : Fixed : Stale : Domain\n",
      "        None :     0 :  None :  None : False :  True : NonNegativeReals\n",
      "\n",
      "1 Objective Declarations\n",
      "    profit : Size=1, Index=None, Active=True\n",
      "        Key  : Active : Sense    : Expression\n",
      "        None :   True : maximize : 2*gold + 3*silver + 4*diamond\n",
      "\n",
      "4 Constraint Declarations\n",
      "    Weight_constraint : Size=1, Index=None, Active=True\n",
      "        Key  : Lower : Body                           : Upper : Active\n",
      "        None :  -Inf : 5*gold + 20*silver + 3*diamond :   4.0 :   True\n",
      "    diamond_constraint : Size=1, Index=None, Active=True\n",
      "        Key  : Lower : Body    : Upper : Active\n",
      "        None :  -Inf : diamond :   1.0 :   True\n",
      "    gold_constraint : Size=1, Index=None, Active=True\n",
      "        Key  : Lower : Body : Upper : Active\n",
      "        None :  -Inf : gold :   1.0 :   True\n",
      "    silver_constraint : Size=1, Index=None, Active=True\n",
      "        Key  : Lower : Body   : Upper : Active\n",
      "        None :  -Inf : silver :   1.0 :   True\n",
      "\n",
      "8 Declarations: gold silver diamond profit Weight_constraint gold_constraint silver_constraint diamond_constraint\n"
     ]
    }
   ],
   "source": [
    "# create a model\n",
    "model = ConcreteModel()\n",
    "\n",
    "# declare decision variables\n",
    "model.gold = Var(domain = NonNegativeReals)  #gold\n",
    "model.silver = Var(domain = NonNegativeReals)  #silver\n",
    "model.diamond = Var(domain = NonNegativeReals) #diamond\n",
    "\n",
    "# declare objective\n",
    "model.profit = Objective(expr = 2 * model.gold + 3 * model.silver + 4 * model.diamond , sense = maximize)\n",
    "\n",
    "# declare constraints\n",
    "model.Weight_constraint = Constraint(expr = 5 * model.gold + 20 * model.silver + 3 * model.diamond <= 4)\n",
    "model.gold_constraint = Constraint(expr = model.gold <= 1)\n",
    "model.silver_constraint = Constraint(expr = model.silver <= 1)\n",
    "model.diamond_constraint = Constraint(expr = model.diamond <= 1)\n",
    "\n",
    "\n",
    "model.pprint()"
   ]
  },
  {
   "cell_type": "code",
   "execution_count": 29,
   "id": "9d8c28a1",
   "metadata": {
    "scrolled": false
   },
   "outputs": [
    {
     "name": "stdout",
     "output_type": "stream",
     "text": [
      "# ==========================================================\n",
      "# = Solver Results                                         =\n",
      "# ==========================================================\n",
      "# ----------------------------------------------------------\n",
      "#   Problem Information\n",
      "# ----------------------------------------------------------\n",
      "Problem: \n",
      "- Name: unknown\n",
      "  Lower bound: 4.4\n",
      "  Upper bound: 4.4\n",
      "  Number of objectives: 1\n",
      "  Number of constraints: 5\n",
      "  Number of variables: 4\n",
      "  Number of nonzeros: 7\n",
      "  Sense: maximize\n",
      "# ----------------------------------------------------------\n",
      "#   Solver Information\n",
      "# ----------------------------------------------------------\n",
      "Solver: \n",
      "- Status: ok\n",
      "  Termination condition: optimal\n",
      "  Statistics: \n",
      "    Branch and bound: \n",
      "      Number of bounded subproblems: 0\n",
      "      Number of created subproblems: 0\n",
      "  Error rc: 0\n",
      "  Time: 0.011645793914794922\n",
      "# ----------------------------------------------------------\n",
      "#   Solution Information\n",
      "# ----------------------------------------------------------\n",
      "Solution: \n",
      "- number of solutions: 0\n",
      "  number of solutions displayed: 0\n",
      "\n",
      "Profit =  4.4\n",
      "\n",
      "Decision Variables\n",
      "gold =  0.2\n",
      "silver =  0.0\n",
      "diamond =  1.0\n",
      "\n",
      "Constraints\n",
      "Weight constraint =  4.0\n",
      "Gold constraint =  0.2\n",
      "Silver constraint =  0.0\n",
      "Diamond constraint =  1.0\n"
     ]
    }
   ],
   "source": [
    "SolverFactory('glpk').solve(model).write()\n",
    "\n",
    "# display solution\n",
    "print('\\nProfit = ', model.profit())\n",
    "\n",
    "print('\\nDecision Variables')\n",
    "print('gold = ', model.gold())\n",
    "print('silver = ', model.silver())\n",
    "print('diamond = ', model.diamond())\n",
    "\n",
    "\n",
    "print('\\nConstraints')\n",
    "print('Weight constraint = ', model.Weight_constraint())\n",
    "print(\"Gold constraint = \" , model.gold_constraint())\n",
    "print(\"Silver constraint = \" , model.silver_constraint())\n",
    "print(\"Diamond constraint = \" , model.diamond_constraint())\n",
    "\n"
   ]
  },
  {
   "cell_type": "markdown",
   "id": "63dc1d4c",
   "metadata": {},
   "source": [
    "### 3. Which constrains are tight/binding ?"
   ]
  },
  {
   "cell_type": "markdown",
   "id": "eede1fe8",
   "metadata": {},
   "source": [
    "1. Wegith constraint\n",
    "2. diamond quantity constraint"
   ]
  },
  {
   "cell_type": "markdown",
   "id": "0fc4e215",
   "metadata": {},
   "source": [
    "### 4. Suppose a crime syndicate wants to buy out the thief. They offer to pay the thief a price y1 for the gold, a price y2 for the diamonds, a price y3 for the silver, and a price y4 per lb for the knapsack. The syndicate wants to minimize the price it pays for the goods. What is the solution for this problem. What is the connection to the previous problem ? (The thief haven't stolen anything yet)"
   ]
  },
  {
   "cell_type": "code",
   "execution_count": 37,
   "id": "f69ec685",
   "metadata": {},
   "outputs": [
    {
     "name": "stdout",
     "output_type": "stream",
     "text": [
      "4 Var Declarations\n",
      "    y1 : Size=1, Index=None\n",
      "        Key  : Lower : Value : Upper : Fixed : Stale : Domain\n",
      "        None :     0 :  None :  None : False :  True : NonNegativeReals\n",
      "    y2 : Size=1, Index=None\n",
      "        Key  : Lower : Value : Upper : Fixed : Stale : Domain\n",
      "        None :     0 :  None :  None : False :  True : NonNegativeReals\n",
      "    y3 : Size=1, Index=None\n",
      "        Key  : Lower : Value : Upper : Fixed : Stale : Domain\n",
      "        None :     0 :  None :  None : False :  True : NonNegativeReals\n",
      "    y4 : Size=1, Index=None\n",
      "        Key  : Lower : Value : Upper : Fixed : Stale : Domain\n",
      "        None :     0 :  None :  None : False :  True : NonNegativeReals\n",
      "\n",
      "1 Objective Declarations\n",
      "    cost : Size=1, Index=None, Active=True\n",
      "        Key  : Active : Sense    : Expression\n",
      "        None :   True : minimize : y1 + y2 + y3 + 4*y4\n",
      "\n",
      "3 Constraint Declarations\n",
      "    constraint1 : Size=1, Index=None, Active=True\n",
      "        Key  : Lower : Body      : Upper : Active\n",
      "        None :   2.0 : y1 + 5*y4 :  +Inf :   True\n",
      "    constraint2 : Size=1, Index=None, Active=True\n",
      "        Key  : Lower : Body       : Upper : Active\n",
      "        None :   3.0 : y2 + 20*y4 :  +Inf :   True\n",
      "    constraint3 : Size=1, Index=None, Active=True\n",
      "        Key  : Lower : Body      : Upper : Active\n",
      "        None :   4.0 : y3 + 3*y4 :  +Inf :   True\n",
      "\n",
      "8 Declarations: y1 y2 y3 y4 cost constraint1 constraint2 constraint3\n"
     ]
    }
   ],
   "source": [
    "# create a model_syn\n",
    "model_syn = ConcreteModel()\n",
    "\n",
    "# declare decision variables\n",
    "model_syn.y1 = Var(domain = NonNegativeReals)  #gold\n",
    "model_syn.y2 = Var(domain = NonNegativeReals)  #silver\n",
    "model_syn.y3 = Var(domain = NonNegativeReals) #diamond\n",
    "model_syn.y4 = Var(domain = NonNegativeReals) #knapsack\n",
    "\n",
    "# declare objective\n",
    "model_syn.cost = Objective(expr =  model_syn.y1 + model_syn.y2 + model_syn.y3 + 4 * model_syn.y4 , sense = minimize)\n",
    "\n",
    "# declare constraints\n",
    "model_syn.constraint1 = Constraint(expr = model_syn.y1 + 5 * model_syn.y4 >= 2)\n",
    "model_syn.constraint2 = Constraint(expr = model_syn.y2 + 20 * model_syn.y4 >= 3)\n",
    "model_syn.constraint3 = Constraint(expr = model_syn.y3 + 3 * model_syn.y4 >= 4)\n",
    "\n",
    "model_syn.pprint()"
   ]
  },
  {
   "cell_type": "code",
   "execution_count": 38,
   "id": "5b68371d",
   "metadata": {},
   "outputs": [
    {
     "name": "stdout",
     "output_type": "stream",
     "text": [
      "# ==========================================================\n",
      "# = Solver Results                                         =\n",
      "# ==========================================================\n",
      "# ----------------------------------------------------------\n",
      "#   Problem Information\n",
      "# ----------------------------------------------------------\n",
      "Problem: \n",
      "- Name: unknown\n",
      "  Lower bound: 4.4\n",
      "  Upper bound: 4.4\n",
      "  Number of objectives: 1\n",
      "  Number of constraints: 4\n",
      "  Number of variables: 5\n",
      "  Number of nonzeros: 7\n",
      "  Sense: minimize\n",
      "# ----------------------------------------------------------\n",
      "#   Solver Information\n",
      "# ----------------------------------------------------------\n",
      "Solver: \n",
      "- Status: ok\n",
      "  Termination condition: optimal\n",
      "  Statistics: \n",
      "    Branch and bound: \n",
      "      Number of bounded subproblems: 0\n",
      "      Number of created subproblems: 0\n",
      "  Error rc: 0\n",
      "  Time: 0.04004406929016113\n",
      "# ----------------------------------------------------------\n",
      "#   Solution Information\n",
      "# ----------------------------------------------------------\n",
      "Solution: \n",
      "- number of solutions: 0\n",
      "  number of solutions displayed: 0\n",
      "\n",
      "Cost =  4.4\n",
      "\n",
      "Decision Variables\n",
      "y1 =  0.0\n",
      "y2 =  0.0\n",
      "y3 =  2.8\n",
      "y4 =  0.4\n"
     ]
    }
   ],
   "source": [
    "SolverFactory('glpk').solve(model_syn).write()\n",
    "\n",
    "# display solution\n",
    "print('\\nCost = ', model_syn.cost())\n",
    "\n",
    "print('\\nDecision Variables')\n",
    "print('y1 = ', model_syn.y1())\n",
    "print('y2 = ', model_syn.y2())\n",
    "print('y3 = ', model_syn.y3())\n",
    "print('y4 = ', model_syn.y4())\n",
    "\n"
   ]
  },
  {
   "cell_type": "markdown",
   "id": "481f554f",
   "metadata": {},
   "source": [
    "The connection between this question and the previous one is that, the solution approach equals to the dual problem form of the previous one."
   ]
  },
  {
   "cell_type": "markdown",
   "id": "996b5bb2",
   "metadata": {},
   "source": [
    "### 5. Discussion Points\n",
    "\n",
    "**(a) The above instance had a unique optimum solution. Will this be true for all instances of the knapsack problem?.**\n"
   ]
  },
  {
   "cell_type": "markdown",
   "id": "57bec5fe",
   "metadata": {},
   "source": [
    "I think it will not be true for all instances of the knapsack problem, there could be possibility that the optimum solution is not a corner point but an edge hence giving us infinite solutions."
   ]
  },
  {
   "cell_type": "markdown",
   "id": "7cf2e206",
   "metadata": {},
   "source": [
    "**(b) What happens if we remove the constraint x ≥ 0 in the first part?**"
   ]
  },
  {
   "cell_type": "code",
   "execution_count": 40,
   "id": "6086d08f",
   "metadata": {
    "scrolled": true
   },
   "outputs": [
    {
     "name": "stdout",
     "output_type": "stream",
     "text": [
      "3 Var Declarations\n",
      "    diamond : Size=1, Index=None\n",
      "        Key  : Lower : Value : Upper : Fixed : Stale : Domain\n",
      "        None :  None :  None :  None : False :  True :  Reals\n",
      "    gold : Size=1, Index=None\n",
      "        Key  : Lower : Value : Upper : Fixed : Stale : Domain\n",
      "        None :  None :  None :  None : False :  True :  Reals\n",
      "    silver : Size=1, Index=None\n",
      "        Key  : Lower : Value : Upper : Fixed : Stale : Domain\n",
      "        None :  None :  None :  None : False :  True :  Reals\n",
      "\n",
      "1 Objective Declarations\n",
      "    profit : Size=1, Index=None, Active=True\n",
      "        Key  : Active : Sense    : Expression\n",
      "        None :   True : maximize : 2*gold + 3*silver + 4*diamond\n",
      "\n",
      "4 Constraint Declarations\n",
      "    Weight_constraint : Size=1, Index=None, Active=True\n",
      "        Key  : Lower : Body                           : Upper : Active\n",
      "        None :  -Inf : 5*gold + 20*silver + 3*diamond :   4.0 :   True\n",
      "    diamond_constraint : Size=1, Index=None, Active=True\n",
      "        Key  : Lower : Body    : Upper : Active\n",
      "        None :  -Inf : diamond :   1.0 :   True\n",
      "    gold_constraint : Size=1, Index=None, Active=True\n",
      "        Key  : Lower : Body : Upper : Active\n",
      "        None :  -Inf : gold :   1.0 :   True\n",
      "    silver_constraint : Size=1, Index=None, Active=True\n",
      "        Key  : Lower : Body   : Upper : Active\n",
      "        None :  -Inf : silver :   1.0 :   True\n",
      "\n",
      "8 Declarations: gold silver diamond profit Weight_constraint gold_constraint silver_constraint diamond_constraint\n"
     ]
    }
   ],
   "source": [
    "# create a model\n",
    "model = ConcreteModel()\n",
    "\n",
    "# declare decision variables\n",
    "model.gold = Var(domain = Reals)  #gold\n",
    "model.silver = Var(domain = Reals)  #silver\n",
    "model.diamond = Var(domain = Reals) #diamond\n",
    "\n",
    "# declare objective\n",
    "model.profit = Objective(expr = 2 * model.gold + 3 * model.silver + 4 * model.diamond , sense = maximize)\n",
    "\n",
    "# declare constraints\n",
    "model.Weight_constraint = Constraint(expr = 5 * model.gold + 20 * model.silver + 3 * model.diamond <= 4)\n",
    "model.gold_constraint = Constraint(expr = model.gold <= 1)\n",
    "model.silver_constraint = Constraint(expr = model.silver <= 1)\n",
    "model.diamond_constraint = Constraint(expr = model.diamond <= 1)\n",
    "\n",
    "\n",
    "model.pprint()"
   ]
  },
  {
   "cell_type": "code",
   "execution_count": 41,
   "id": "69814d5c",
   "metadata": {},
   "outputs": [
    {
     "name": "stdout",
     "output_type": "stream",
     "text": [
      "# ==========================================================\n",
      "# = Solver Results                                         =\n",
      "# ==========================================================\n",
      "# ----------------------------------------------------------\n",
      "#   Problem Information\n",
      "# ----------------------------------------------------------\n",
      "Problem: \n",
      "- Name: unknown\n",
      "  Lower bound: 5.4\n",
      "  Upper bound: 5.4\n",
      "  Number of objectives: 1\n",
      "  Number of constraints: 5\n",
      "  Number of variables: 4\n",
      "  Number of nonzeros: 7\n",
      "  Sense: maximize\n",
      "# ----------------------------------------------------------\n",
      "#   Solver Information\n",
      "# ----------------------------------------------------------\n",
      "Solver: \n",
      "- Status: ok\n",
      "  Termination condition: optimal\n",
      "  Statistics: \n",
      "    Branch and bound: \n",
      "      Number of bounded subproblems: 0\n",
      "      Number of created subproblems: 0\n",
      "  Error rc: 0\n",
      "  Time: 0.010895967483520508\n",
      "# ----------------------------------------------------------\n",
      "#   Solution Information\n",
      "# ----------------------------------------------------------\n",
      "Solution: \n",
      "- number of solutions: 0\n",
      "  number of solutions displayed: 0\n",
      "\n",
      "Profit =  5.4\n",
      "\n",
      "Decision Variables\n",
      "gold =  1.0\n",
      "silver =  -0.2\n",
      "diamond =  1.0\n",
      "\n",
      "Constraints\n",
      "Weight constraint =  4.0\n",
      "Gold constraint =  1.0\n",
      "Silver constraint =  -0.2\n",
      "Diamond constraint =  1.0\n"
     ]
    }
   ],
   "source": [
    "SolverFactory('glpk').solve(model).write()\n",
    "\n",
    "# display solution\n",
    "print('\\nProfit = ', model.profit())\n",
    "\n",
    "print('\\nDecision Variables')\n",
    "print('gold = ', model.gold())\n",
    "print('silver = ', model.silver())\n",
    "print('diamond = ', model.diamond())\n",
    "\n",
    "\n",
    "print('\\nConstraints')\n",
    "print('Weight constraint = ', model.Weight_constraint())\n",
    "print(\"Gold constraint = \" , model.gold_constraint())\n",
    "print(\"Silver constraint = \" , model.silver_constraint())\n",
    "print(\"Diamond constraint = \" , model.diamond_constraint())"
   ]
  },
  {
   "cell_type": "markdown",
   "id": "944d6aec",
   "metadata": {},
   "source": [
    "\\\n",
    "\\\n",
    "We will yield negative portion of **Silver**!\n",
    "\n",
    "\n",
    "\\\n",
    "\\\n"
   ]
  },
  {
   "cell_type": "markdown",
   "id": "1d0c0494",
   "metadata": {},
   "source": [
    "**(c) Can you list some more feasible solutions to this LP?**"
   ]
  },
  {
   "cell_type": "code",
   "execution_count": 81,
   "id": "89c3dc13",
   "metadata": {},
   "outputs": [],
   "source": [
    "def create_feasible_solution(v1 , v2 , v3):\n",
    "    model = ConcreteModel()\n",
    "\n",
    "    # declare decision variables\n",
    "    model.gold = Var(domain = NonNegativeReals)  #gold\n",
    "    model.silver = Var(domain = NonNegativeReals)  #silver\n",
    "    model.diamond = Var(domain = NonNegativeReals) #diamond\n",
    "\n",
    "    # declare objective\n",
    "    model.profit = Objective(expr = v1 * model.gold + v2 * model.silver + v3 * model.diamond , sense = maximize)\n",
    "\n",
    "    # declare constraints\n",
    "    model.Weight_constraint = Constraint(expr = 5 * model.gold + 20 * model.silver + 3 * model.diamond <= 4)\n",
    "    model.gold_constraint = Constraint(expr = model.gold <= 1)\n",
    "    model.silver_constraint = Constraint(expr = model.silver <= 1)\n",
    "    model.diamond_constraint = Constraint(expr = model.diamond <= 1)\n",
    "\n",
    "    SolverFactory('glpk').solve(model)\n",
    "\n",
    "    print('\\nConstraints')\n",
    "    print('Weight constraint = ', model.Weight_constraint())\n",
    "    print(\"Gold constraint = \" , model.gold_constraint())\n",
    "    print(\"Silver constraint = \" , model.silver_constraint())\n",
    "    print(\"Diamond constraint = \" , model.diamond_constraint())"
   ]
  },
  {
   "cell_type": "code",
   "execution_count": 83,
   "id": "e1745978",
   "metadata": {},
   "outputs": [
    {
     "name": "stdout",
     "output_type": "stream",
     "text": [
      "\n",
      "Constraints\n",
      "Weight constraint =  4.0\n",
      "Gold constraint =  0.0\n",
      "Silver constraint =  0.05\n",
      "Diamond constraint =  1.0\n"
     ]
    }
   ],
   "source": [
    "create_feasible_solution(1 , 5 , 3)"
   ]
  },
  {
   "cell_type": "code",
   "execution_count": 86,
   "id": "803c9322",
   "metadata": {},
   "outputs": [
    {
     "name": "stdout",
     "output_type": "stream",
     "text": [
      "\n",
      "Constraints\n",
      "Weight constraint =  4.0\n",
      "Gold constraint =  0.8\n",
      "Silver constraint =  0.0\n",
      "Diamond constraint =  0.0\n"
     ]
    }
   ],
   "source": [
    "create_feasible_solution(5 , 5 , 1)"
   ]
  },
  {
   "cell_type": "markdown",
   "id": "1e626492",
   "metadata": {},
   "source": [
    "Yes! I can create more feasible solutions by adjusting the value of each item."
   ]
  },
  {
   "cell_type": "markdown",
   "id": "3aaf88c3",
   "metadata": {},
   "source": [
    "**(d) Can you think of more realistic applications for the knapsack problem?**"
   ]
  },
  {
   "cell_type": "markdown",
   "id": "332565d8",
   "metadata": {},
   "source": [
    "We can probably solve this problem by calculating the unit price of each item and steal upon the sequence of values, and each time we steal all of the underlying item. For example, if we only have gold and diamond to steal from, the unit price of gold is : 2 / 5, which is lower than that of diamond, which is 4 / 3, therefore, we start by stealing every bit of diamonds and fill the rest of the knapsack with gold to make sure that we maximize the profit."
   ]
  },
  {
   "cell_type": "markdown",
   "id": "52b0eaf6",
   "metadata": {},
   "source": [
    "**(e) Why might it be practically important that only one good is chosen fractionally?**"
   ]
  },
  {
   "cell_type": "code",
   "execution_count": null,
   "id": "ebdf0729",
   "metadata": {},
   "outputs": [],
   "source": [
    "Becuase it can be hard "
   ]
  }
 ],
 "metadata": {
  "kernelspec": {
   "display_name": "Python 3 (ipykernel)",
   "language": "python",
   "name": "python3"
  },
  "language_info": {
   "codemirror_mode": {
    "name": "ipython",
    "version": 3
   },
   "file_extension": ".py",
   "mimetype": "text/x-python",
   "name": "python",
   "nbconvert_exporter": "python",
   "pygments_lexer": "ipython3",
   "version": "3.9.6"
  }
 },
 "nbformat": 4,
 "nbformat_minor": 5
}
