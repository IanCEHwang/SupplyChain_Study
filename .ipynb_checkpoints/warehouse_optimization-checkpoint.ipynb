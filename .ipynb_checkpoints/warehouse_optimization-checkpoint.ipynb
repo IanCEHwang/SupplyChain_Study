{
 "cells": [
  {
   "cell_type": "code",
   "execution_count": 1,
   "id": "26781147",
   "metadata": {},
   "outputs": [],
   "source": [
    "import pandas as pd\n",
    "import numpy as np"
   ]
  },
  {
   "cell_type": "code",
   "execution_count": null,
   "id": "c1fe3fee",
   "metadata": {},
   "outputs": [],
   "source": [
    "class product_object:\n",
    "    def __init__(self, product_id):\n",
    "        self.product_id = product_id\n",
    "        self.current_inventory = [0 , 0 , 0 ,0] ###initiate starting inventory in all three classes\n",
    "        self.class_log = [] ### initiate a list for storing all the class logs\n",
    "\n",
    "    def print_class_name(self):\n",
    "        print(self.product_id)  "
   ]
  },
  {
   "cell_type": "code",
   "execution_count": null,
   "id": "2a098e79",
   "metadata": {},
   "outputs": [],
   "source": [
    "class class_object:\n",
    "    def __init__(self, class_id):\n",
    "        self.class_id = class_id\n",
    "        self.current_inventory = np.zeros(10)\n",
    "        self.max_capacity = 984\n",
    "        self.current_capacity = 0\n",
    "\n",
    "\n",
    "    ### Inbound handling \n",
    "    def stuff_product(self, product_index , number_of_product): \n",
    "        spare_room = self.max_capacity - self.current_capacity ### check room left\n",
    "        product_index = int(product_index) ### convert index to int for indexing\n",
    "\n",
    "        if spare_room >= number_of_product: ### if enough room\n",
    "            self.current_inventory[product_index - 1] = self.current_inventory[product_index - 1] + number_of_product\n",
    "            self.current_capacity = sum(self.current_inventory) ### update capacity\n",
    "            return 0\n",
    "\n",
    "        else: ### if not enough room\n",
    "            self.current_inventory[product_index - 1] = self.max_capacity ### stuff to max\n",
    "            self.current_capacity = self.max_capacity ### update capacity\n",
    "            return number_of_product - spare_room ### return number of products that are not stored\n",
    "\n",
    "    def return_numbers(self):\n",
    "        print('current inventory :' , self.current_inventory)\n",
    "        print('current capacity :' , self.current_capacity)"
   ]
  }
 ],
 "metadata": {
  "kernelspec": {
   "display_name": "Python 3 (ipykernel)",
   "language": "python",
   "name": "python3"
  },
  "language_info": {
   "codemirror_mode": {
    "name": "ipython",
    "version": 3
   },
   "file_extension": ".py",
   "mimetype": "text/x-python",
   "name": "python",
   "nbconvert_exporter": "python",
   "pygments_lexer": "ipython3",
   "version": "3.9.6"
  }
 },
 "nbformat": 4,
 "nbformat_minor": 5
}
